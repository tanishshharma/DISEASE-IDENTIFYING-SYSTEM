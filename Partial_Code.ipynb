{
  "cells": [
    {
      "cell_type": "code",
      "execution_count": 1,
      "metadata": {
        "id": "Dy1ypv7a2hTd"
      },
      "outputs": [],
      "source": [
        "import os\n",
        "import shutil\n",
        "import numpy as np\n",
        "import matplotlib.pyplot as plt\n",
        "\n",
        "import torch\n",
        "import torch.nn as nn\n",
        "import torch.optim as optim\n",
        "\n",
        "import torchvision\n",
        "from torchvision import datasets,transforms \n",
        "from torch.utils.data.sampler import SubsetRandomSampler"
      ]
    },
    {
      "cell_type": "code",
      "execution_count": 2,
      "metadata": {
        "id": "_sOmW2PAt803"
      },
      "outputs": [],
      "source": [
        "file_ext = \"png\"\n",
        "clf_result = \"normal\"\n",
        "dataset_dir = \"DatasetCombined\""
      ]
    },
    {
      "cell_type": "code",
      "execution_count": null,
      "metadata": {
        "id": "fl-Z6Vegt-Cc"
      },
      "outputs": [],
      "source": [
        "!wget http://openi.nlm.nih.gov/imgs/collections/NLM-MontgomeryCXRSet.zip\n",
        "!unzip NLM-MontgomeryCXRSet.zip\n",
        "!wget http://openi.nlm.nih.gov/imgs/collections/ChinaSet_AllFiles.zip\n",
        "!unzip ChinaSet_AllFiles.zip"
      ]
    },
    {
      "cell_type": "code",
      "execution_count": null,
      "metadata": {},
      "outputs": [],
      "source": [
        "#Once the datasets are downloaded and unzipped, they'll be unpacked by default into folders named as defined below. \n",
        "\n",
        "chinaset_img_path = \"ChinaSet_AllFiles/CXR_png/\"\n",
        "chinaset_lbl_path = \"ChinaSet_AllFiles/ClinicalReadings/\"\n",
        "montset_img_path = \"MontgomerySet/CXR_png/\"\n",
        "montset_lbl_path = \"MontgomerySet/ClinicalReadings/\"\n",
        "dest_path_normal = \"DatasetCombined/Normal/\"\n",
        "dest_path_tb = \"DatasetCombined/Tuberculosis/\""
      ]
    },
    {
      "cell_type": "code",
      "execution_count": null,
      "metadata": {},
      "outputs": [],
      "source": [
        "lbl_directories = [chinaset_lbl_path, montset_lbl_path ]\n",
        "img_directories = [chinaset_img_path, montset_img_path ]"
      ]
    },
    {
      "cell_type": "code",
      "execution_count": null,
      "metadata": {},
      "outputs": [],
      "source": [
        "for i in range(len(lbl_directories)):\n",
        "    for file in os.listdir(lbl_directories[i]):\n",
        "        imgname = file[:-len(file_ext)] + file_ext\n",
        "        with open(os.path.join(lbl_directories[i],file)) as report:\n",
        "            for line in report:\n",
        "                if clf_result in line:\n",
        "                    shutil.copy(img_directories[i] + imgname, dest_path_normal + imgname)\n",
        "                    break\n",
        "            else:\n",
        "                shutil.copy(img_directories[i] + imgname, dest_path_tb + imgname)"
      ]
    }
  ],
  "metadata": {
    "colab": {
      "provenance": []
    },
    "kernelspec": {
      "display_name": "Python 3",
      "name": "python3"
    },
    "language_info": {
      "name": "python"
    }
  },
  "nbformat": 4,
  "nbformat_minor": 0
}
